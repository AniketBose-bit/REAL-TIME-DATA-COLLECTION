{
  "nbformat": 4,
  "nbformat_minor": 0,
  "metadata": {
    "colab": {
      "provenance": []
    },
    "kernelspec": {
      "name": "python3",
      "display_name": "Python 3"
    },
    "language_info": {
      "name": "python"
    }
  },
  "cells": [
    {
      "cell_type": "code",
      "execution_count": null,
      "metadata": {
        "id": "u1AhmJM_LlBM"
      },
      "outputs": [],
      "source": [
        "import yfinance as yf\n",
        "import time\n",
        "import csv\n",
        "import sqlite3"
      ]
    },
    {
      "cell_type": "markdown",
      "source": [
        "Setting up SQLite database"
      ],
      "metadata": {
        "id": "qvnpcPy6L2zX"
      }
    },
    {
      "cell_type": "code",
      "source": [
        "def setup_database():\n",
        "    conn = sqlite3.connect(\"stock_data.db\")\n",
        "    cursor = conn.cursor()\n",
        "    cursor.execute('''CREATE TABLE IF NOT EXISTS stock_data (\n",
        "                        symbol TEXT,\n",
        "                        timestamp TEXT,\n",
        "                        open REAL,\n",
        "                        high REAL,\n",
        "                        low REAL,\n",
        "                        close REAL,\n",
        "                        volume INTEGER)''')\n",
        "    conn.commit()\n",
        "    return conn, cursor"
      ],
      "metadata": {
        "id": "XnHhGNFQMBRm"
      },
      "execution_count": null,
      "outputs": []
    },
    {
      "cell_type": "markdown",
      "source": [
        "Function to store data in SQLite database"
      ],
      "metadata": {
        "id": "7jQtfYZcMUCl"
      }
    },
    {
      "cell_type": "code",
      "source": [
        "def store_data_db(cursor, stock_data):\n",
        "    query = '''INSERT INTO stock_data (symbol, timestamp, open, high, low, close, volume)\n",
        "               VALUES (?, ?, ?, ?, ?, ?, ?)'''\n",
        "    cursor.execute(query, (\n",
        "        stock_data['symbol'],\n",
        "        stock_data['timestamp'],\n",
        "        stock_data['open'],\n",
        "        stock_data['high'],\n",
        "        stock_data['low'],\n",
        "        stock_data['close'],\n",
        "        stock_data['volume']\n",
        "    ))\n"
      ],
      "metadata": {
        "id": "MKrGqaLYMwWr"
      },
      "execution_count": null,
      "outputs": []
    },
    {
      "cell_type": "markdown",
      "source": [
        "Function to store data in a CSV file"
      ],
      "metadata": {
        "id": "h6WVh4mgM3WW"
      }
    },
    {
      "cell_type": "code",
      "source": [
        "def store_data_csv(file_path, stock_data):\n",
        "    file_exists = False\n",
        "    try:\n",
        "        with open(file_path, 'r'):\n",
        "            file_exists = True\n",
        "    except FileNotFoundError:\n",
        "        file_exists = False\n",
        "\n",
        "    with open(file_path, mode='a', newline='') as file:\n",
        "        writer = csv.writer(file)\n",
        "        if not file_exists:\n",
        "            # Write header if file does not exist\n",
        "            writer.writerow(['symbol', 'timestamp', 'open', 'high', 'low', 'close', 'volume'])\n",
        "        # Write stock data\n",
        "        writer.writerow([stock_data['symbol'], stock_data['timestamp'], stock_data['open'],\n",
        "                         stock_data['high'], stock_data['low'], stock_data['close'], stock_data['volume']])"
      ],
      "metadata": {
        "id": "twQxKcL5M4Q0"
      },
      "execution_count": null,
      "outputs": []
    },
    {
      "cell_type": "markdown",
      "source": [
        "Function to fetch real-time data using yfinance"
      ],
      "metadata": {
        "id": "q0NiWHFrM_ug"
      }
    },
    {
      "cell_type": "code",
      "source": [
        "def fetch_real_time_data(ticker_symbol):\n",
        "    # Download 1-minute interval data for the past 1 day\n",
        "    data = yf.download(ticker_symbol, period=\"1d\", interval=\"1m\")\n",
        "\n",
        "    # Check if data is returned\n",
        "    if not data.empty:\n",
        "        # Get the most recent data point\n",
        "        latest_row = data.iloc[-1]\n",
        "        stock_data = {\n",
        "            \"symbol\": ticker_symbol,\n",
        "            \"timestamp\": latest_row.name.strftime('%Y-%m-%d %H:%M:%S'),\n",
        "            \"open\": latest_row['Open'],\n",
        "            \"high\": latest_row['High'],\n",
        "            \"low\": latest_row['Low'],\n",
        "            \"close\": latest_row['Close'],\n",
        "            \"volume\": int(latest_row['Volume'])\n",
        "        }\n",
        "        return stock_data\n",
        "    else:\n",
        "        print(f\"No data found for {ticker_symbol}\")\n",
        "        return None"
      ],
      "metadata": {
        "id": "zyhuUQBcNAbj"
      },
      "execution_count": null,
      "outputs": []
    },
    {
      "cell_type": "markdown",
      "source": [
        "Function to update real-time data at regular intervals"
      ],
      "metadata": {
        "id": "qhsASOWENL0y"
      }
    },
    {
      "cell_type": "code",
      "source": [
        "def update_real_time_data(ticker_symbol, interval=60, storage_type=\"csv\"):\n",
        "    conn, cursor = None, None\n",
        "\n",
        "    # Prepare CSV file path or SQLite DB\n",
        "    if storage_type == \"csv\":\n",
        "        csv_file_path = f\"{ticker_symbol}_stock_data.csv\"\n",
        "    elif storage_type == \"db\":\n",
        "        conn, cursor = setup_database()\n",
        "\n",
        "    try:\n",
        "        while True:\n",
        "            # Fetch and display real-time data\n",
        "            stock_data = fetch_real_time_data(ticker_symbol)\n",
        "            if stock_data:  # If stock_data is not None\n",
        "                print(f\"Stock Data: {stock_data}\")\n",
        "\n",
        "                # Store data in CSV or SQLite database\n",
        "                if storage_type == \"csv\":\n",
        "                    store_data_csv(csv_file_path, stock_data)\n",
        "                elif storage_type == \"db\":\n",
        "                    store_data_db(cursor, stock_data)\n",
        "                    conn.commit()\n",
        "\n",
        "            # Wait for the specified interval before fetching the next data point\n",
        "            time.sleep(interval)\n",
        "\n",
        "    except KeyboardInterrupt:\n",
        "        if conn:\n",
        "            conn.close()\n",
        "        print(\"Real-time data collection stopped.\")\n"
      ],
      "metadata": {
        "id": "Ksybi6SBNMlR"
      },
      "execution_count": null,
      "outputs": []
    },
    {
      "cell_type": "code",
      "source": [
        "# Update real-time data for a specific stock symbol (e.g., AAPL) every 60 seconds and store in CSV\n",
        "update_real_time_data(\"AAPL\", interval=60, storage_type=\"csv\")"
      ],
      "metadata": {
        "colab": {
          "base_uri": "https://localhost:8080/"
        },
        "id": "riFqKf9Xw240",
        "outputId": "71119cb1-6a0e-4549-c9cb-02f930bfd523"
      },
      "execution_count": null,
      "outputs": [
        {
          "output_type": "stream",
          "name": "stderr",
          "text": [
            "\r[*********************100%***********************]  1 of 1 completed\n"
          ]
        },
        {
          "output_type": "stream",
          "name": "stdout",
          "text": [
            "Stock Data: {'symbol': 'AAPL', 'timestamp': '2024-09-27 09:55:00', 'open': 228.9600067138672, 'high': 228.9600067138672, 'low': 228.9600067138672, 'close': 228.9600067138672, 'volume': 0}\n"
          ]
        },
        {
          "output_type": "stream",
          "name": "stderr",
          "text": [
            "\r[*********************100%***********************]  1 of 1 completed\n"
          ]
        },
        {
          "output_type": "stream",
          "name": "stdout",
          "text": [
            "Stock Data: {'symbol': 'AAPL', 'timestamp': '2024-09-27 09:56:00', 'open': 229.10940551757812, 'high': 229.10940551757812, 'low': 229.10940551757812, 'close': 229.10940551757812, 'volume': 0}\n"
          ]
        },
        {
          "output_type": "stream",
          "name": "stderr",
          "text": [
            "\r[*********************100%***********************]  1 of 1 completed\n"
          ]
        },
        {
          "output_type": "stream",
          "name": "stdout",
          "text": [
            "Stock Data: {'symbol': 'AAPL', 'timestamp': '2024-09-27 09:57:00', 'open': 228.8800048828125, 'high': 228.8800048828125, 'low': 228.8800048828125, 'close': 228.8800048828125, 'volume': 0}\n"
          ]
        },
        {
          "output_type": "stream",
          "name": "stderr",
          "text": [
            "\r[*********************100%***********************]  1 of 1 completed\n"
          ]
        },
        {
          "output_type": "stream",
          "name": "stdout",
          "text": [
            "Stock Data: {'symbol': 'AAPL', 'timestamp': '2024-09-27 09:57:00', 'open': 228.77999877929688, 'high': 228.77999877929688, 'low': 228.77999877929688, 'close': 228.77999877929688, 'volume': 0}\n"
          ]
        },
        {
          "output_type": "stream",
          "name": "stderr",
          "text": [
            "\r[*********************100%***********************]  1 of 1 completed\n"
          ]
        },
        {
          "output_type": "stream",
          "name": "stdout",
          "text": [
            "Stock Data: {'symbol': 'AAPL', 'timestamp': '2024-09-27 09:57:00', 'open': 228.86000061035156, 'high': 228.8800048828125, 'low': 228.7200927734375, 'close': 228.77999877929688, 'volume': 84518}\n"
          ]
        },
        {
          "output_type": "stream",
          "name": "stderr",
          "text": [
            "\r[*********************100%***********************]  1 of 1 completed\n"
          ]
        },
        {
          "output_type": "stream",
          "name": "stdout",
          "text": [
            "Stock Data: {'symbol': 'AAPL', 'timestamp': '2024-09-27 10:00:00', 'open': 228.94000244140625, 'high': 228.94000244140625, 'low': 228.94000244140625, 'close': 228.94000244140625, 'volume': 0}\n"
          ]
        },
        {
          "output_type": "stream",
          "name": "stderr",
          "text": [
            "\r[*********************100%***********************]  1 of 1 completed\n"
          ]
        },
        {
          "output_type": "stream",
          "name": "stdout",
          "text": [
            "Stock Data: {'symbol': 'AAPL', 'timestamp': '2024-09-27 10:01:00', 'open': 228.92999267578125, 'high': 228.92999267578125, 'low': 228.92999267578125, 'close': 228.92999267578125, 'volume': 0}\n"
          ]
        },
        {
          "output_type": "stream",
          "name": "stderr",
          "text": [
            "\r[*********************100%***********************]  1 of 1 completed\n"
          ]
        },
        {
          "output_type": "stream",
          "name": "stdout",
          "text": [
            "Stock Data: {'symbol': 'AAPL', 'timestamp': '2024-09-27 10:02:00', 'open': 229.05209350585938, 'high': 229.05209350585938, 'low': 229.05209350585938, 'close': 229.05209350585938, 'volume': 0}\n"
          ]
        },
        {
          "output_type": "stream",
          "name": "stderr",
          "text": [
            "\r[*********************100%***********************]  1 of 1 completed\n"
          ]
        },
        {
          "output_type": "stream",
          "name": "stdout",
          "text": [
            "Stock Data: {'symbol': 'AAPL', 'timestamp': '2024-09-27 10:03:00', 'open': 229.17999267578125, 'high': 229.17999267578125, 'low': 229.17999267578125, 'close': 229.17999267578125, 'volume': 0}\n"
          ]
        },
        {
          "output_type": "stream",
          "name": "stderr",
          "text": [
            "\r[*********************100%***********************]  1 of 1 completed\n"
          ]
        },
        {
          "output_type": "stream",
          "name": "stdout",
          "text": [
            "Stock Data: {'symbol': 'AAPL', 'timestamp': '2024-09-27 10:04:00', 'open': 229.41000366210938, 'high': 229.41000366210938, 'low': 229.41000366210938, 'close': 229.41000366210938, 'volume': 0}\n"
          ]
        },
        {
          "output_type": "stream",
          "name": "stderr",
          "text": [
            "\r[*********************100%***********************]  1 of 1 completed\n"
          ]
        },
        {
          "output_type": "stream",
          "name": "stdout",
          "text": [
            "Stock Data: {'symbol': 'AAPL', 'timestamp': '2024-09-27 10:05:00', 'open': 228.97999572753906, 'high': 228.97999572753906, 'low': 228.97999572753906, 'close': 228.97999572753906, 'volume': 0}\n"
          ]
        },
        {
          "output_type": "stream",
          "name": "stderr",
          "text": [
            "\r[*********************100%***********************]  1 of 1 completed\n"
          ]
        },
        {
          "output_type": "stream",
          "name": "stdout",
          "text": [
            "Stock Data: {'symbol': 'AAPL', 'timestamp': '2024-09-27 10:06:00', 'open': 229.22000122070312, 'high': 229.22000122070312, 'low': 229.22000122070312, 'close': 229.22000122070312, 'volume': 0}\n"
          ]
        },
        {
          "output_type": "stream",
          "name": "stderr",
          "text": [
            "\r[*********************100%***********************]  1 of 1 completed\n"
          ]
        },
        {
          "output_type": "stream",
          "name": "stdout",
          "text": [
            "Stock Data: {'symbol': 'AAPL', 'timestamp': '2024-09-27 10:07:00', 'open': 229.3300018310547, 'high': 229.3300018310547, 'low': 229.3300018310547, 'close': 229.3300018310547, 'volume': 0}\n"
          ]
        },
        {
          "output_type": "stream",
          "name": "stderr",
          "text": [
            "\r[*********************100%***********************]  1 of 1 completed\n"
          ]
        },
        {
          "output_type": "stream",
          "name": "stdout",
          "text": [
            "Stock Data: {'symbol': 'AAPL', 'timestamp': '2024-09-27 10:08:00', 'open': 229.2790069580078, 'high': 229.2790069580078, 'low': 229.2790069580078, 'close': 229.2790069580078, 'volume': 0}\n"
          ]
        },
        {
          "output_type": "stream",
          "name": "stderr",
          "text": [
            "\r[*********************100%***********************]  1 of 1 completed\n"
          ]
        },
        {
          "output_type": "stream",
          "name": "stdout",
          "text": [
            "Stock Data: {'symbol': 'AAPL', 'timestamp': '2024-09-27 10:09:00', 'open': 229.2899932861328, 'high': 229.2899932861328, 'low': 229.2899932861328, 'close': 229.2899932861328, 'volume': 0}\n"
          ]
        },
        {
          "output_type": "stream",
          "name": "stderr",
          "text": [
            "\r[*********************100%***********************]  1 of 1 completed\n"
          ]
        },
        {
          "output_type": "stream",
          "name": "stdout",
          "text": [
            "Stock Data: {'symbol': 'AAPL', 'timestamp': '2024-09-27 10:10:00', 'open': 229.27499389648438, 'high': 229.27499389648438, 'low': 229.27499389648438, 'close': 229.27499389648438, 'volume': 0}\n"
          ]
        },
        {
          "output_type": "stream",
          "name": "stderr",
          "text": [
            "\r[*********************100%***********************]  1 of 1 completed\n"
          ]
        },
        {
          "output_type": "stream",
          "name": "stdout",
          "text": [
            "Stock Data: {'symbol': 'AAPL', 'timestamp': '2024-09-27 10:11:00', 'open': 229.2799072265625, 'high': 229.2799072265625, 'low': 229.2799072265625, 'close': 229.2799072265625, 'volume': 0}\n"
          ]
        },
        {
          "output_type": "stream",
          "name": "stderr",
          "text": [
            "\r[*********************100%***********************]  1 of 1 completed\n"
          ]
        },
        {
          "output_type": "stream",
          "name": "stdout",
          "text": [
            "Stock Data: {'symbol': 'AAPL', 'timestamp': '2024-09-27 10:12:00', 'open': 229.1300048828125, 'high': 229.1300048828125, 'low': 229.1300048828125, 'close': 229.1300048828125, 'volume': 0}\n"
          ]
        },
        {
          "output_type": "stream",
          "name": "stderr",
          "text": [
            "\r[*********************100%***********************]  1 of 1 completed\n"
          ]
        },
        {
          "output_type": "stream",
          "name": "stdout",
          "text": [
            "Stock Data: {'symbol': 'AAPL', 'timestamp': '2024-09-27 10:13:00', 'open': 228.86000061035156, 'high': 228.86000061035156, 'low': 228.86000061035156, 'close': 228.86000061035156, 'volume': 0}\n"
          ]
        },
        {
          "output_type": "stream",
          "name": "stderr",
          "text": [
            "\r[*********************100%***********************]  1 of 1 completed\n"
          ]
        },
        {
          "output_type": "stream",
          "name": "stdout",
          "text": [
            "Stock Data: {'symbol': 'AAPL', 'timestamp': '2024-09-27 10:14:00', 'open': 229.0050048828125, 'high': 229.0050048828125, 'low': 229.0050048828125, 'close': 229.0050048828125, 'volume': 0}\n"
          ]
        },
        {
          "output_type": "stream",
          "name": "stderr",
          "text": [
            "\r[*********************100%***********************]  1 of 1 completed\n"
          ]
        },
        {
          "output_type": "stream",
          "name": "stdout",
          "text": [
            "Stock Data: {'symbol': 'AAPL', 'timestamp': '2024-09-27 10:15:00', 'open': 229.0019989013672, 'high': 229.0019989013672, 'low': 229.0019989013672, 'close': 229.0019989013672, 'volume': 0}\n"
          ]
        },
        {
          "output_type": "stream",
          "name": "stderr",
          "text": [
            "\r[*********************100%***********************]  1 of 1 completed\n"
          ]
        },
        {
          "output_type": "stream",
          "name": "stdout",
          "text": [
            "Stock Data: {'symbol': 'AAPL', 'timestamp': '2024-09-27 10:16:00', 'open': 229.0, 'high': 229.0, 'low': 229.0, 'close': 229.0, 'volume': 0}\n"
          ]
        },
        {
          "output_type": "stream",
          "name": "stderr",
          "text": [
            "\r[*********************100%***********************]  1 of 1 completed\n"
          ]
        },
        {
          "output_type": "stream",
          "name": "stdout",
          "text": [
            "Stock Data: {'symbol': 'AAPL', 'timestamp': '2024-09-27 10:17:00', 'open': 229.02999877929688, 'high': 229.02999877929688, 'low': 229.02999877929688, 'close': 229.02999877929688, 'volume': 0}\n"
          ]
        },
        {
          "output_type": "stream",
          "name": "stderr",
          "text": [
            "\r[*********************100%***********************]  1 of 1 completed\n"
          ]
        },
        {
          "output_type": "stream",
          "name": "stdout",
          "text": [
            "Stock Data: {'symbol': 'AAPL', 'timestamp': '2024-09-27 10:18:00', 'open': 229.0399932861328, 'high': 229.0399932861328, 'low': 229.0399932861328, 'close': 229.0399932861328, 'volume': 0}\n"
          ]
        },
        {
          "output_type": "stream",
          "name": "stderr",
          "text": [
            "\r[*********************100%***********************]  1 of 1 completed\n"
          ]
        },
        {
          "output_type": "stream",
          "name": "stdout",
          "text": [
            "Stock Data: {'symbol': 'AAPL', 'timestamp': '2024-09-27 10:19:00', 'open': 228.9259033203125, 'high': 228.9259033203125, 'low': 228.9259033203125, 'close': 228.9259033203125, 'volume': 0}\n"
          ]
        },
        {
          "output_type": "stream",
          "name": "stderr",
          "text": [
            "\r[*********************100%***********************]  1 of 1 completed\n"
          ]
        },
        {
          "output_type": "stream",
          "name": "stdout",
          "text": [
            "Stock Data: {'symbol': 'AAPL', 'timestamp': '2024-09-27 10:20:00', 'open': 228.9600067138672, 'high': 228.9600067138672, 'low': 228.9600067138672, 'close': 228.9600067138672, 'volume': 0}\n"
          ]
        },
        {
          "output_type": "stream",
          "name": "stderr",
          "text": [
            "\r[*********************100%***********************]  1 of 1 completed\n"
          ]
        },
        {
          "output_type": "stream",
          "name": "stdout",
          "text": [
            "Stock Data: {'symbol': 'AAPL', 'timestamp': '2024-09-27 10:21:00', 'open': 229.14599609375, 'high': 229.14599609375, 'low': 229.14599609375, 'close': 229.14599609375, 'volume': 0}\n"
          ]
        },
        {
          "output_type": "stream",
          "name": "stderr",
          "text": [
            "\r[*********************100%***********************]  1 of 1 completed\n"
          ]
        },
        {
          "output_type": "stream",
          "name": "stdout",
          "text": [
            "Stock Data: {'symbol': 'AAPL', 'timestamp': '2024-09-27 10:22:00', 'open': 228.97999572753906, 'high': 228.97999572753906, 'low': 228.97999572753906, 'close': 228.97999572753906, 'volume': 0}\n"
          ]
        },
        {
          "output_type": "stream",
          "name": "stderr",
          "text": [
            "\r[*********************100%***********************]  1 of 1 completed\n"
          ]
        },
        {
          "output_type": "stream",
          "name": "stdout",
          "text": [
            "Stock Data: {'symbol': 'AAPL', 'timestamp': '2024-09-27 10:23:00', 'open': 228.96499633789062, 'high': 228.96499633789062, 'low': 228.96499633789062, 'close': 228.96499633789062, 'volume': 0}\n"
          ]
        },
        {
          "output_type": "stream",
          "name": "stderr",
          "text": [
            "\r[*********************100%***********************]  1 of 1 completed\n"
          ]
        },
        {
          "output_type": "stream",
          "name": "stdout",
          "text": [
            "Stock Data: {'symbol': 'AAPL', 'timestamp': '2024-09-27 10:24:00', 'open': 228.97999572753906, 'high': 228.97999572753906, 'low': 228.97999572753906, 'close': 228.97999572753906, 'volume': 0}\n"
          ]
        },
        {
          "output_type": "stream",
          "name": "stderr",
          "text": [
            "\r[*********************100%***********************]  1 of 1 completed\n"
          ]
        },
        {
          "output_type": "stream",
          "name": "stdout",
          "text": [
            "Stock Data: {'symbol': 'AAPL', 'timestamp': '2024-09-27 10:25:00', 'open': 229.03500366210938, 'high': 229.03500366210938, 'low': 229.03500366210938, 'close': 229.03500366210938, 'volume': 0}\n"
          ]
        },
        {
          "output_type": "stream",
          "name": "stderr",
          "text": [
            "\r[*********************100%***********************]  1 of 1 completed\n"
          ]
        },
        {
          "output_type": "stream",
          "name": "stdout",
          "text": [
            "Stock Data: {'symbol': 'AAPL', 'timestamp': '2024-09-27 10:26:00', 'open': 229.11000061035156, 'high': 229.11000061035156, 'low': 229.11000061035156, 'close': 229.11000061035156, 'volume': 0}\n"
          ]
        },
        {
          "output_type": "stream",
          "name": "stderr",
          "text": [
            "\r[*********************100%***********************]  1 of 1 completed\n"
          ]
        },
        {
          "output_type": "stream",
          "name": "stdout",
          "text": [
            "Stock Data: {'symbol': 'AAPL', 'timestamp': '2024-09-27 10:27:00', 'open': 229.08799743652344, 'high': 229.08799743652344, 'low': 229.08799743652344, 'close': 229.08799743652344, 'volume': 0}\n"
          ]
        },
        {
          "output_type": "stream",
          "name": "stderr",
          "text": [
            "\r[*********************100%***********************]  1 of 1 completed\n"
          ]
        },
        {
          "output_type": "stream",
          "name": "stdout",
          "text": [
            "Stock Data: {'symbol': 'AAPL', 'timestamp': '2024-09-27 10:28:00', 'open': 229.1199951171875, 'high': 229.1199951171875, 'low': 229.1199951171875, 'close': 229.1199951171875, 'volume': 0}\n"
          ]
        },
        {
          "output_type": "stream",
          "name": "stderr",
          "text": [
            "\r[*********************100%***********************]  1 of 1 completed\n"
          ]
        },
        {
          "output_type": "stream",
          "name": "stdout",
          "text": [
            "Stock Data: {'symbol': 'AAPL', 'timestamp': '2024-09-27 10:29:00', 'open': 229.16000366210938, 'high': 229.16000366210938, 'low': 229.16000366210938, 'close': 229.16000366210938, 'volume': 0}\n"
          ]
        },
        {
          "output_type": "stream",
          "name": "stderr",
          "text": [
            "\r[*********************100%***********************]  1 of 1 completed\n"
          ]
        },
        {
          "output_type": "stream",
          "name": "stdout",
          "text": [
            "Stock Data: {'symbol': 'AAPL', 'timestamp': '2024-09-27 10:29:00', 'open': 229.25, 'high': 229.25, 'low': 228.9199981689453, 'close': 228.96499633789062, 'volume': 0}\n"
          ]
        },
        {
          "output_type": "stream",
          "name": "stderr",
          "text": [
            "\r[*********************100%***********************]  1 of 1 completed\n"
          ]
        },
        {
          "output_type": "stream",
          "name": "stdout",
          "text": [
            "Stock Data: {'symbol': 'AAPL', 'timestamp': '2024-09-27 10:31:00', 'open': 228.8000030517578, 'high': 228.8000030517578, 'low': 228.8000030517578, 'close': 228.8000030517578, 'volume': 0}\n",
            "Real-time data collection stopped.\n"
          ]
        }
      ]
    }
  ]
}